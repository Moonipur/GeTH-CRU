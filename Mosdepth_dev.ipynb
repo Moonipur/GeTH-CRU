{
  "nbformat": 4,
  "nbformat_minor": 0,
  "metadata": {
    "colab": {
      "provenance": [],
      "authorship_tag": "ABX9TyMhn4hIRP43PpF9qpowqWS7",
      "include_colab_link": true
    },
    "kernelspec": {
      "name": "python3",
      "display_name": "Python 3"
    },
    "language_info": {
      "name": "python"
    }
  },
  "cells": [
    {
      "cell_type": "markdown",
      "metadata": {
        "id": "view-in-github",
        "colab_type": "text"
      },
      "source": [
        "<a href=\"https://colab.research.google.com/github/Moonipur/GeTH-CRU/blob/main/Mosdepth_dev.ipynb\" target=\"_parent\"><img src=\"https://colab.research.google.com/assets/colab-badge.svg\" alt=\"Open In Colab\"/></a>"
      ]
    },
    {
      "cell_type": "code",
      "execution_count": null,
      "metadata": {
        "id": "0Zsxq8VDnY5X"
      },
      "outputs": [],
      "source": [
        "import pandas as pd\n",
        "import numpy as np\n",
        "import os"
      ]
    },
    {
      "cell_type": "code",
      "source": [
        "file_path = '/content/HCC108_depth.mosdepth.summary.txt'\n",
        "chr = [\n",
        "    \"chr1\", \"chr2\", \"chr3\", \"chr4\", \"chr5\", \"chr6\",\n",
        "    \"chr7\", \"chr8\", \"chr9\", \"chr10\", \"chr11\", \"chr12\",\n",
        "    \"chr13\", \"chr14\", \"chr15\", \"chr16\", \"chr17\", \"chr18\",\n",
        "    \"chr19\", \"chr20\", \"chr21\", \"chr22\", \"chrX\", \"chrY\"\n",
        "]\n",
        "\n",
        "df = pd.read_table(file_path, sep='\\t')"
      ],
      "metadata": {
        "id": "8ZMRHcOEnjsi"
      },
      "execution_count": null,
      "outputs": []
    },
    {
      "cell_type": "code",
      "source": [
        "file_path_sp = list(os.path.split(file_path))"
      ],
      "metadata": {
        "id": "N7xwKTl7vy-1"
      },
      "execution_count": null,
      "outputs": []
    },
    {
      "cell_type": "code",
      "source": [
        "name = [*map(file_path_sp[-1].split('.').__getitem__,[0,3])]"
      ],
      "metadata": {
        "id": "jEolFYDAwKIC"
      },
      "execution_count": null,
      "outputs": []
    },
    {
      "cell_type": "code",
      "source": [
        "name.insert(1, \"FINE_SUMMARY\")"
      ],
      "metadata": {
        "id": "ysqgDj1Qx9_N"
      },
      "execution_count": null,
      "outputs": []
    },
    {
      "cell_type": "code",
      "source": [
        "file_path_sp[-1] = '.'.join(name)"
      ],
      "metadata": {
        "id": "CWaHnp3zyLSg"
      },
      "execution_count": null,
      "outputs": []
    },
    {
      "cell_type": "code",
      "source": [
        "file_path_sp"
      ],
      "metadata": {
        "colab": {
          "base_uri": "https://localhost:8080/"
        },
        "id": "8p4cI8BQzYXy",
        "outputId": "dfeaa040-1e10-4066-d243-2f61519e3215"
      },
      "execution_count": null,
      "outputs": [
        {
          "output_type": "execute_result",
          "data": {
            "text/plain": [
              "['/content', 'HCC108_depth.FINE_SUMMARY.txt']"
            ]
          },
          "metadata": {},
          "execution_count": 91
        }
      ]
    },
    {
      "cell_type": "code",
      "source": [
        "out_file = os.path.join(*file_path_sp)"
      ],
      "metadata": {
        "id": "I3f8R5edyhOH"
      },
      "execution_count": null,
      "outputs": []
    },
    {
      "cell_type": "code",
      "source": [
        "df"
      ],
      "metadata": {
        "colab": {
          "base_uri": "https://localhost:8080/",
          "height": 423
        },
        "id": "4iB689ROn2D6",
        "outputId": "461399b9-8c68-47f3-eb3e-065ef465fc86"
      },
      "execution_count": null,
      "outputs": [
        {
          "output_type": "execute_result",
          "data": {
            "text/plain": [
              "                            chrom      length         bases   mean  min  \\\n",
              "0                            chr1   248956422   10738679016  43.13    0   \n",
              "1                     chr1_region   248956422   10738679016  43.13    0   \n",
              "2                            chr2   242193529   10801262361  44.60    0   \n",
              "3                     chr2_region   242193529   10801262361  44.60    0   \n",
              "4                            chr3   198295559    8777167515  44.26    0   \n",
              "...                           ...         ...           ...    ...  ...   \n",
              "5467  HLA-DRB1*15:03:01:02_region       11569          1017   0.09    0   \n",
              "5468            HLA-DRB1*16:02:01       11005          2243   0.20    0   \n",
              "5469     HLA-DRB1*16:02:01_region       11005          2243   0.20    0   \n",
              "5470                        total  3215435724  131447760223  40.88    0   \n",
              "5471                 total_region  3215435724  131447760223  40.88    0   \n",
              "\n",
              "         max  \n",
              "0      27647  \n",
              "1      27647  \n",
              "2     411622  \n",
              "3     411622  \n",
              "4      42650  \n",
              "...      ...  \n",
              "5467       5  \n",
              "5468      10  \n",
              "5469      10  \n",
              "5470  411622  \n",
              "5471  411622  \n",
              "\n",
              "[5472 rows x 6 columns]"
            ],
            "text/html": [
              "\n",
              "  <div id=\"df-e8f4665a-c416-470c-aaa8-a8dde7609fe2\" class=\"colab-df-container\">\n",
              "    <div>\n",
              "<style scoped>\n",
              "    .dataframe tbody tr th:only-of-type {\n",
              "        vertical-align: middle;\n",
              "    }\n",
              "\n",
              "    .dataframe tbody tr th {\n",
              "        vertical-align: top;\n",
              "    }\n",
              "\n",
              "    .dataframe thead th {\n",
              "        text-align: right;\n",
              "    }\n",
              "</style>\n",
              "<table border=\"1\" class=\"dataframe\">\n",
              "  <thead>\n",
              "    <tr style=\"text-align: right;\">\n",
              "      <th></th>\n",
              "      <th>chrom</th>\n",
              "      <th>length</th>\n",
              "      <th>bases</th>\n",
              "      <th>mean</th>\n",
              "      <th>min</th>\n",
              "      <th>max</th>\n",
              "    </tr>\n",
              "  </thead>\n",
              "  <tbody>\n",
              "    <tr>\n",
              "      <th>0</th>\n",
              "      <td>chr1</td>\n",
              "      <td>248956422</td>\n",
              "      <td>10738679016</td>\n",
              "      <td>43.13</td>\n",
              "      <td>0</td>\n",
              "      <td>27647</td>\n",
              "    </tr>\n",
              "    <tr>\n",
              "      <th>1</th>\n",
              "      <td>chr1_region</td>\n",
              "      <td>248956422</td>\n",
              "      <td>10738679016</td>\n",
              "      <td>43.13</td>\n",
              "      <td>0</td>\n",
              "      <td>27647</td>\n",
              "    </tr>\n",
              "    <tr>\n",
              "      <th>2</th>\n",
              "      <td>chr2</td>\n",
              "      <td>242193529</td>\n",
              "      <td>10801262361</td>\n",
              "      <td>44.60</td>\n",
              "      <td>0</td>\n",
              "      <td>411622</td>\n",
              "    </tr>\n",
              "    <tr>\n",
              "      <th>3</th>\n",
              "      <td>chr2_region</td>\n",
              "      <td>242193529</td>\n",
              "      <td>10801262361</td>\n",
              "      <td>44.60</td>\n",
              "      <td>0</td>\n",
              "      <td>411622</td>\n",
              "    </tr>\n",
              "    <tr>\n",
              "      <th>4</th>\n",
              "      <td>chr3</td>\n",
              "      <td>198295559</td>\n",
              "      <td>8777167515</td>\n",
              "      <td>44.26</td>\n",
              "      <td>0</td>\n",
              "      <td>42650</td>\n",
              "    </tr>\n",
              "    <tr>\n",
              "      <th>...</th>\n",
              "      <td>...</td>\n",
              "      <td>...</td>\n",
              "      <td>...</td>\n",
              "      <td>...</td>\n",
              "      <td>...</td>\n",
              "      <td>...</td>\n",
              "    </tr>\n",
              "    <tr>\n",
              "      <th>5467</th>\n",
              "      <td>HLA-DRB1*15:03:01:02_region</td>\n",
              "      <td>11569</td>\n",
              "      <td>1017</td>\n",
              "      <td>0.09</td>\n",
              "      <td>0</td>\n",
              "      <td>5</td>\n",
              "    </tr>\n",
              "    <tr>\n",
              "      <th>5468</th>\n",
              "      <td>HLA-DRB1*16:02:01</td>\n",
              "      <td>11005</td>\n",
              "      <td>2243</td>\n",
              "      <td>0.20</td>\n",
              "      <td>0</td>\n",
              "      <td>10</td>\n",
              "    </tr>\n",
              "    <tr>\n",
              "      <th>5469</th>\n",
              "      <td>HLA-DRB1*16:02:01_region</td>\n",
              "      <td>11005</td>\n",
              "      <td>2243</td>\n",
              "      <td>0.20</td>\n",
              "      <td>0</td>\n",
              "      <td>10</td>\n",
              "    </tr>\n",
              "    <tr>\n",
              "      <th>5470</th>\n",
              "      <td>total</td>\n",
              "      <td>3215435724</td>\n",
              "      <td>131447760223</td>\n",
              "      <td>40.88</td>\n",
              "      <td>0</td>\n",
              "      <td>411622</td>\n",
              "    </tr>\n",
              "    <tr>\n",
              "      <th>5471</th>\n",
              "      <td>total_region</td>\n",
              "      <td>3215435724</td>\n",
              "      <td>131447760223</td>\n",
              "      <td>40.88</td>\n",
              "      <td>0</td>\n",
              "      <td>411622</td>\n",
              "    </tr>\n",
              "  </tbody>\n",
              "</table>\n",
              "<p>5472 rows × 6 columns</p>\n",
              "</div>\n",
              "    <div class=\"colab-df-buttons\">\n",
              "\n",
              "  <div class=\"colab-df-container\">\n",
              "    <button class=\"colab-df-convert\" onclick=\"convertToInteractive('df-e8f4665a-c416-470c-aaa8-a8dde7609fe2')\"\n",
              "            title=\"Convert this dataframe to an interactive table.\"\n",
              "            style=\"display:none;\">\n",
              "\n",
              "  <svg xmlns=\"http://www.w3.org/2000/svg\" height=\"24px\" viewBox=\"0 -960 960 960\">\n",
              "    <path d=\"M120-120v-720h720v720H120Zm60-500h600v-160H180v160Zm220 220h160v-160H400v160Zm0 220h160v-160H400v160ZM180-400h160v-160H180v160Zm440 0h160v-160H620v160ZM180-180h160v-160H180v160Zm440 0h160v-160H620v160Z\"/>\n",
              "  </svg>\n",
              "    </button>\n",
              "\n",
              "  <style>\n",
              "    .colab-df-container {\n",
              "      display:flex;\n",
              "      gap: 12px;\n",
              "    }\n",
              "\n",
              "    .colab-df-convert {\n",
              "      background-color: #E8F0FE;\n",
              "      border: none;\n",
              "      border-radius: 50%;\n",
              "      cursor: pointer;\n",
              "      display: none;\n",
              "      fill: #1967D2;\n",
              "      height: 32px;\n",
              "      padding: 0 0 0 0;\n",
              "      width: 32px;\n",
              "    }\n",
              "\n",
              "    .colab-df-convert:hover {\n",
              "      background-color: #E2EBFA;\n",
              "      box-shadow: 0px 1px 2px rgba(60, 64, 67, 0.3), 0px 1px 3px 1px rgba(60, 64, 67, 0.15);\n",
              "      fill: #174EA6;\n",
              "    }\n",
              "\n",
              "    .colab-df-buttons div {\n",
              "      margin-bottom: 4px;\n",
              "    }\n",
              "\n",
              "    [theme=dark] .colab-df-convert {\n",
              "      background-color: #3B4455;\n",
              "      fill: #D2E3FC;\n",
              "    }\n",
              "\n",
              "    [theme=dark] .colab-df-convert:hover {\n",
              "      background-color: #434B5C;\n",
              "      box-shadow: 0px 1px 3px 1px rgba(0, 0, 0, 0.15);\n",
              "      filter: drop-shadow(0px 1px 2px rgba(0, 0, 0, 0.3));\n",
              "      fill: #FFFFFF;\n",
              "    }\n",
              "  </style>\n",
              "\n",
              "    <script>\n",
              "      const buttonEl =\n",
              "        document.querySelector('#df-e8f4665a-c416-470c-aaa8-a8dde7609fe2 button.colab-df-convert');\n",
              "      buttonEl.style.display =\n",
              "        google.colab.kernel.accessAllowed ? 'block' : 'none';\n",
              "\n",
              "      async function convertToInteractive(key) {\n",
              "        const element = document.querySelector('#df-e8f4665a-c416-470c-aaa8-a8dde7609fe2');\n",
              "        const dataTable =\n",
              "          await google.colab.kernel.invokeFunction('convertToInteractive',\n",
              "                                                    [key], {});\n",
              "        if (!dataTable) return;\n",
              "\n",
              "        const docLinkHtml = 'Like what you see? Visit the ' +\n",
              "          '<a target=\"_blank\" href=https://colab.research.google.com/notebooks/data_table.ipynb>data table notebook</a>'\n",
              "          + ' to learn more about interactive tables.';\n",
              "        element.innerHTML = '';\n",
              "        dataTable['output_type'] = 'display_data';\n",
              "        await google.colab.output.renderOutput(dataTable, element);\n",
              "        const docLink = document.createElement('div');\n",
              "        docLink.innerHTML = docLinkHtml;\n",
              "        element.appendChild(docLink);\n",
              "      }\n",
              "    </script>\n",
              "  </div>\n",
              "\n",
              "\n",
              "<div id=\"df-0352b31a-29cd-4d8b-9793-36d609abce66\">\n",
              "  <button class=\"colab-df-quickchart\" onclick=\"quickchart('df-0352b31a-29cd-4d8b-9793-36d609abce66')\"\n",
              "            title=\"Suggest charts\"\n",
              "            style=\"display:none;\">\n",
              "\n",
              "<svg xmlns=\"http://www.w3.org/2000/svg\" height=\"24px\"viewBox=\"0 0 24 24\"\n",
              "     width=\"24px\">\n",
              "    <g>\n",
              "        <path d=\"M19 3H5c-1.1 0-2 .9-2 2v14c0 1.1.9 2 2 2h14c1.1 0 2-.9 2-2V5c0-1.1-.9-2-2-2zM9 17H7v-7h2v7zm4 0h-2V7h2v10zm4 0h-2v-4h2v4z\"/>\n",
              "    </g>\n",
              "</svg>\n",
              "  </button>\n",
              "\n",
              "<style>\n",
              "  .colab-df-quickchart {\n",
              "      --bg-color: #E8F0FE;\n",
              "      --fill-color: #1967D2;\n",
              "      --hover-bg-color: #E2EBFA;\n",
              "      --hover-fill-color: #174EA6;\n",
              "      --disabled-fill-color: #AAA;\n",
              "      --disabled-bg-color: #DDD;\n",
              "  }\n",
              "\n",
              "  [theme=dark] .colab-df-quickchart {\n",
              "      --bg-color: #3B4455;\n",
              "      --fill-color: #D2E3FC;\n",
              "      --hover-bg-color: #434B5C;\n",
              "      --hover-fill-color: #FFFFFF;\n",
              "      --disabled-bg-color: #3B4455;\n",
              "      --disabled-fill-color: #666;\n",
              "  }\n",
              "\n",
              "  .colab-df-quickchart {\n",
              "    background-color: var(--bg-color);\n",
              "    border: none;\n",
              "    border-radius: 50%;\n",
              "    cursor: pointer;\n",
              "    display: none;\n",
              "    fill: var(--fill-color);\n",
              "    height: 32px;\n",
              "    padding: 0;\n",
              "    width: 32px;\n",
              "  }\n",
              "\n",
              "  .colab-df-quickchart:hover {\n",
              "    background-color: var(--hover-bg-color);\n",
              "    box-shadow: 0 1px 2px rgba(60, 64, 67, 0.3), 0 1px 3px 1px rgba(60, 64, 67, 0.15);\n",
              "    fill: var(--button-hover-fill-color);\n",
              "  }\n",
              "\n",
              "  .colab-df-quickchart-complete:disabled,\n",
              "  .colab-df-quickchart-complete:disabled:hover {\n",
              "    background-color: var(--disabled-bg-color);\n",
              "    fill: var(--disabled-fill-color);\n",
              "    box-shadow: none;\n",
              "  }\n",
              "\n",
              "  .colab-df-spinner {\n",
              "    border: 2px solid var(--fill-color);\n",
              "    border-color: transparent;\n",
              "    border-bottom-color: var(--fill-color);\n",
              "    animation:\n",
              "      spin 1s steps(1) infinite;\n",
              "  }\n",
              "\n",
              "  @keyframes spin {\n",
              "    0% {\n",
              "      border-color: transparent;\n",
              "      border-bottom-color: var(--fill-color);\n",
              "      border-left-color: var(--fill-color);\n",
              "    }\n",
              "    20% {\n",
              "      border-color: transparent;\n",
              "      border-left-color: var(--fill-color);\n",
              "      border-top-color: var(--fill-color);\n",
              "    }\n",
              "    30% {\n",
              "      border-color: transparent;\n",
              "      border-left-color: var(--fill-color);\n",
              "      border-top-color: var(--fill-color);\n",
              "      border-right-color: var(--fill-color);\n",
              "    }\n",
              "    40% {\n",
              "      border-color: transparent;\n",
              "      border-right-color: var(--fill-color);\n",
              "      border-top-color: var(--fill-color);\n",
              "    }\n",
              "    60% {\n",
              "      border-color: transparent;\n",
              "      border-right-color: var(--fill-color);\n",
              "    }\n",
              "    80% {\n",
              "      border-color: transparent;\n",
              "      border-right-color: var(--fill-color);\n",
              "      border-bottom-color: var(--fill-color);\n",
              "    }\n",
              "    90% {\n",
              "      border-color: transparent;\n",
              "      border-bottom-color: var(--fill-color);\n",
              "    }\n",
              "  }\n",
              "</style>\n",
              "\n",
              "  <script>\n",
              "    async function quickchart(key) {\n",
              "      const quickchartButtonEl =\n",
              "        document.querySelector('#' + key + ' button');\n",
              "      quickchartButtonEl.disabled = true;  // To prevent multiple clicks.\n",
              "      quickchartButtonEl.classList.add('colab-df-spinner');\n",
              "      try {\n",
              "        const charts = await google.colab.kernel.invokeFunction(\n",
              "            'suggestCharts', [key], {});\n",
              "      } catch (error) {\n",
              "        console.error('Error during call to suggestCharts:', error);\n",
              "      }\n",
              "      quickchartButtonEl.classList.remove('colab-df-spinner');\n",
              "      quickchartButtonEl.classList.add('colab-df-quickchart-complete');\n",
              "    }\n",
              "    (() => {\n",
              "      let quickchartButtonEl =\n",
              "        document.querySelector('#df-0352b31a-29cd-4d8b-9793-36d609abce66 button');\n",
              "      quickchartButtonEl.style.display =\n",
              "        google.colab.kernel.accessAllowed ? 'block' : 'none';\n",
              "    })();\n",
              "  </script>\n",
              "</div>\n",
              "    </div>\n",
              "  </div>\n"
            ],
            "application/vnd.google.colaboratory.intrinsic+json": {
              "type": "dataframe",
              "variable_name": "df",
              "summary": "{\n  \"name\": \"df\",\n  \"rows\": 5472,\n  \"fields\": [\n    {\n      \"column\": \"chrom\",\n      \"properties\": {\n        \"dtype\": \"string\",\n        \"num_unique_values\": 5472,\n        \"samples\": [\n          \"HLA-DRB1*11:01:02_region\",\n          \"chrUn_JTFH01001758v1_decoy_region\",\n          \"chrUn_KN707701v1_decoy\"\n        ],\n        \"semantic_type\": \"\",\n        \"description\": \"\"\n      }\n    },\n    {\n      \"column\": \"length\",\n      \"properties\": {\n        \"dtype\": \"number\",\n        \"std\": 62829213,\n        \"min\": 970,\n        \"max\": 3215435724,\n        \"num_unique_values\": 1951,\n        \"samples\": [\n          11713,\n          1407,\n          3178\n        ],\n        \"semantic_type\": \"\",\n        \"description\": \"\"\n      }\n    },\n    {\n      \"column\": \"bases\",\n      \"properties\": {\n        \"dtype\": \"number\",\n        \"std\": 2573666200,\n        \"min\": 30,\n        \"max\": 131447760223,\n        \"num_unique_values\": 2520,\n        \"samples\": [\n          484397,\n          47562,\n          438068\n        ],\n        \"semantic_type\": \"\",\n        \"description\": \"\"\n      }\n    },\n    {\n      \"column\": \"mean\",\n      \"properties\": {\n        \"dtype\": \"number\",\n        \"std\": 479.67223862265695,\n        \"min\": 0.01,\n        \"max\": 18309.69,\n        \"num_unique_values\": 2007,\n        \"samples\": [\n          63.42,\n          0.04,\n          1.63\n        ],\n        \"semantic_type\": \"\",\n        \"description\": \"\"\n      }\n    },\n    {\n      \"column\": \"min\",\n      \"properties\": {\n        \"dtype\": \"number\",\n        \"std\": 10,\n        \"min\": 0,\n        \"max\": 200,\n        \"num_unique_values\": 67,\n        \"samples\": [\n          29,\n          24,\n          12\n        ],\n        \"semantic_type\": \"\",\n        \"description\": \"\"\n      }\n    },\n    {\n      \"column\": \"max\",\n      \"properties\": {\n        \"dtype\": \"number\",\n        \"std\": 11884,\n        \"min\": 1,\n        \"max\": 411622,\n        \"num_unique_values\": 642,\n        \"samples\": [\n          405,\n          454,\n          470\n        ],\n        \"semantic_type\": \"\",\n        \"description\": \"\"\n      }\n    }\n  ]\n}"
            }
          },
          "metadata": {},
          "execution_count": 5
        }
      ]
    },
    {
      "cell_type": "code",
      "source": [
        "data = []\n",
        "for i in chr:\n",
        "  if df.loc[df['chrom'] == i].iloc[0,0] == i:\n",
        "    data.append([i,df.loc[df['chrom'] == i].iloc[0,3]])\n",
        "\n",
        "print(data)"
      ],
      "metadata": {
        "colab": {
          "base_uri": "https://localhost:8080/"
        },
        "id": "yKcGQbG-n2ly",
        "outputId": "ce5d9b0a-e447-4aa0-f893-92187e0615d6"
      },
      "execution_count": null,
      "outputs": [
        {
          "output_type": "stream",
          "name": "stdout",
          "text": [
            "[['chr1', 43.13], ['chr2', 44.6], ['chr3', 44.26], ['chr4', 44.55], ['chr5', 44.09], ['chr6', 44.18], ['chr7', 44.1], ['chr8', 45.25], ['chr9', 40.33], ['chr10', 46.04], ['chr11', 44.91], ['chr12', 44.86], ['chr13', 39.29], ['chr14', 36.93], ['chr15', 38.86], ['chr16', 43.22], ['chr17', 44.83], ['chr18', 45.17], ['chr19', 41.33], ['chr20', 48.64], ['chr21', 40.77], ['chr22', 34.78], ['chrX', 22.73], ['chrY', 14.38]]\n"
          ]
        }
      ]
    },
    {
      "cell_type": "code",
      "source": [
        "mean_coverage=np.mean([data[i][1] for i in range(len(data))])"
      ],
      "metadata": {
        "id": "ZuWDMm-6pXta"
      },
      "execution_count": null,
      "outputs": []
    },
    {
      "cell_type": "code",
      "source": [
        "import matplotlib.pyplot as plt\n",
        "import seaborn as sns\n",
        "plt.figure(figsize=(15,5))\n",
        "sns.lineplot(y=[data[i][1] for i in range(len(data))],x=[data[i][0] for i in range(len(data))])\n",
        "plt.ylim(0, 100)"
      ],
      "metadata": {
        "colab": {
          "base_uri": "https://localhost:8080/",
          "height": 381
        },
        "id": "FddlOzv9rTPx",
        "outputId": "98ac0f90-5584-4d8f-95b7-c35fa08c799c"
      },
      "execution_count": null,
      "outputs": [
        {
          "output_type": "execute_result",
          "data": {
            "text/plain": [
              "(0.0, 100.0)"
            ]
          },
          "metadata": {},
          "execution_count": 45
        },
        {
          "output_type": "display_data",
          "data": {
            "text/plain": [
              "<Figure size 1500x500 with 1 Axes>"
            ],
            "image/png": "[encoded data removed]"
          },
          "metadata": {}
        }
      ]
    },
    {
      "cell_type": "code",
      "source": [
        "new_df = pd.DataFrame(data, columns=[\"chrom\", \"mean_depth\"])"
      ],
      "metadata": {
        "id": "sSrr2ci7tx1e"
      },
      "execution_count": null,
      "outputs": []
    },
    {
      "cell_type": "code",
      "source": [
        "new_df.loc[len(new_df.index)] = [\"Coverage\", mean_coverage]"
      ],
      "metadata": {
        "id": "ejOL0UZIuBJ8"
      },
      "execution_count": null,
      "outputs": []
    },
    {
      "cell_type": "code",
      "source": [
        "new_df.to_csv(out_file, index=False, sep='\\t')"
      ],
      "metadata": {
        "id": "cBtFeF7YvYOg"
      },
      "execution_count": null,
      "outputs": []
    }
  ]
}